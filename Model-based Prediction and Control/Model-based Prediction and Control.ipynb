{
 "cells": [
  {
   "cell_type": "code",
   "execution_count": 1,
   "metadata": {},
   "outputs": [],
   "source": [
    "import numpy as np"
   ]
  },
  {
   "cell_type": "code",
   "execution_count": 43,
   "metadata": {},
   "outputs": [],
   "source": [
    "class Doolhof: \n",
    "    def __init__(self, start_punt=(2,2), end_points=[(0,3), (3,0)]):\n",
    "        self.locatie = np.zeros((4, 4))   \n",
    "        self.rewards = np.array([[-1,-1,-1,40],\n",
    "                                [-1,-1,-10,-10],\n",
    "                                [-1,-1,-1,-1],\n",
    "                                [10,-2,-1,-1]])\n",
    "        self.actions = [0,1,2,3] # omhoog,rechts,beneden,links\n",
    "        \n",
    "    def step(self, action):\n",
    "        pass\n",
    "    # als agent op een rand zit en dus niet een zet kan doen return zelfde position\n",
    "    # bijvoor als agent in eerste (0,x) is dan kan hij niet omhoog. en bij (x, 3) dan kan hij niet naar rechts.\n",
    "    # (3,x) dan kan hij niet omlaag, (x, 0) kan hij niet naar links"
   ]
  },
  {
   "cell_type": "code",
   "execution_count": 45,
   "metadata": {},
   "outputs": [],
   "source": [
    "class Agent:\n",
    "    def __init__(self):\n",
    "        pass\n",
    "    \n",
    "    def valuefunction():\n",
    "        pass\n",
    "    \n",
    "    def kies_actie():\n",
    "        pass"
   ]
  },
  {
   "cell_type": "code",
   "execution_count": 46,
   "metadata": {},
   "outputs": [],
   "source": [
    "class Policy:\n",
    "    def select_action():\n",
    "        pass"
   ]
  }
 ],
 "metadata": {
  "kernelspec": {
   "display_name": "Python 3",
   "language": "python",
   "name": "python3"
  },
  "language_info": {
   "codemirror_mode": {
    "name": "ipython",
    "version": 3
   },
   "file_extension": ".py",
   "mimetype": "text/x-python",
   "name": "python",
   "nbconvert_exporter": "python",
   "pygments_lexer": "ipython3",
   "version": "3.8.0"
  }
 },
 "nbformat": 4,
 "nbformat_minor": 4
}
